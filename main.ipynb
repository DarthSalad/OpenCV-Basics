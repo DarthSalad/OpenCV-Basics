{
 "cells": [
  {
   "cell_type": "code",
   "execution_count": 2,
   "metadata": {},
   "outputs": [],
   "source": [
    "# Importing necessary libraries\n",
    "import cv2\n",
    "import numpy as np"
   ]
  },
  {
   "cell_type": "code",
   "execution_count": 2,
   "metadata": {},
   "outputs": [],
   "source": [
    "'''Q1. Read, write and display an Image.'''\n",
    "\n",
    "# Reading the image\n",
    "img = cv2.imread('image1.png')\n",
    "\n",
    "# Displaying the image\n",
    "cv2.imshow('Image', img)\n",
    "cv2.waitKey(0)\n",
    "cv2.destroyAllWindows()\n",
    "\n",
    "# Writing the image\n",
    "cv2.imwrite('./output images/output1.png', img)\n"
   ]
  },
  {
   "cell_type": "code",
   "execution_count": 31,
   "metadata": {},
   "outputs": [
    {
     "data": {
      "text/plain": [
       "True"
      ]
     },
     "execution_count": 31,
     "metadata": {},
     "output_type": "execute_result"
    }
   ],
   "source": [
    "'''Q2. Mirror and flip an Image.'''\n",
    "\n",
    "# Reading the image\n",
    "img = cv2.imread('image1.png')\n",
    "\n",
    "# Mirroring the image horizontally\n",
    "img_mirror = cv2.flip(img, 1)\n",
    "\n",
    "# Flipping the image vertically\n",
    "img_flip = cv2.flip(img, 0)\n",
    "\n",
    "# Displaying the mirrored image\n",
    "cv2.imshow('Mirrored Image', img_mirror)\n",
    "cv2.waitKey(0)\n",
    "cv2.destroyAllWindows()\n",
    "\n",
    "# Writing the mirrored image\n",
    "cv2.imwrite('./output images/mirrored.png', img_mirror)\n",
    "\n",
    "# Displaying the flipped image\n",
    "cv2.imshow('Flipped Image', img_flip)\n",
    "cv2.waitKey(0)\n",
    "cv2.destroyAllWindows()\n",
    "\n",
    "# Writing the flipped image\n",
    "cv2.imwrite('./output images/flipped.png', img_flip)\n"
   ]
  },
  {
   "cell_type": "code",
   "execution_count": 32,
   "metadata": {},
   "outputs": [
    {
     "data": {
      "text/plain": [
       "'Q3. Divide an Image into different parts.'"
      ]
     },
     "execution_count": 32,
     "metadata": {},
     "output_type": "execute_result"
    }
   ],
   "source": [
    "'''Q3. Divide an Image into different parts.'''\n",
    "#Will do later hehe"
   ]
  },
  {
   "cell_type": "code",
   "execution_count": 33,
   "metadata": {},
   "outputs": [
    {
     "data": {
      "text/plain": [
       "True"
      ]
     },
     "execution_count": 33,
     "metadata": {},
     "output_type": "execute_result"
    }
   ],
   "source": [
    "'''Q4. Read a gray-scale image, modify the pixel intensities which are greater than 120 as white, less than 50 as black and rest as unmodified.'''\n",
    "\n",
    "# Reading the grayscale image\n",
    "img = cv2.imread('image1.png', cv2.IMREAD_GRAYSCALE)\n",
    "\n",
    "# Modifying the pixel intensities\n",
    "img[img > 120] = 255\n",
    "img[img < 50] = 0\n",
    "\n",
    "# Displaying the modified image\n",
    "cv2.imshow('Modified Image', img)\n",
    "cv2.waitKey(0)\n",
    "cv2.destroyAllWindows()\n",
    "\n",
    "# Writing the modified image\n",
    "cv2.imwrite('./output images/output2.png', img)\n"
   ]
  },
  {
   "cell_type": "code",
   "execution_count": 34,
   "metadata": {},
   "outputs": [
    {
     "data": {
      "text/plain": [
       "True"
      ]
     },
     "execution_count": 34,
     "metadata": {},
     "output_type": "execute_result"
    }
   ],
   "source": [
    "'''Q5. Find the mean of a gray-scale image and set it as the threshold value. Using the threshold value convert the image into binary image and display it.'''\n",
    "\n",
    "# Reading the grayscale image\n",
    "img = cv2.imread('image1.png', cv2.IMREAD_GRAYSCALE)\n",
    "\n",
    "# Finding the mean of the image\n",
    "mean = np.mean(img)\n",
    "\n",
    "# Setting the threshold value\n",
    "threshold = mean\n",
    "\n",
    "# Converting the image into binary using the threshold value\n",
    "_, binary_img = cv2.threshold(img, threshold, 255, cv2.THRESH_BINARY)\n",
    "\n",
    "# Displaying the binary image\n",
    "cv2.imshow('Binary Image', binary_img)\n",
    "cv2.waitKey(0)\n",
    "cv2.destroyAllWindows()\n",
    "\n",
    "# Writing the binary image\n",
    "cv2.imwrite('./output images/output3.png', binary_img)\n",
    "\n"
   ]
  },
  {
   "cell_type": "code",
   "execution_count": 2,
   "metadata": {},
   "outputs": [],
   "source": [
    "'''Q6. python program to change the resolution of an image from 1 bit to 8 bit.'''\n",
    "\n",
    "# Reading the image\n",
    "img = cv2.imread('image1.png')\n",
    "\n",
    "def downscale(img,bits): #img or src image and bits is the required bits\n",
    "    level = 2**bits - 1\n",
    "    img_xbit = (img // (256//level)) * (256//level)\n",
    "    return img_xbit\n",
    "\n",
    "def dispXwrite(img,bits):\n",
    "    imgx=downscale(img,bits)\n",
    "    cv2.imshow(str(bits)+'-bit Image', imgx) #displays the image\n",
    "    cv2.waitKey(0)\n",
    "    cv2.destroyAllWindows()\n",
    "    cv2.imwrite('./output images/output_'+str(bits)+'bit.png', imgx) #writes the image with suitable name\n",
    "\n",
    "for bits in range(8,0,-1):\n",
    "    dispXwrite(img,bits)\n",
    "\n",
    "\n"
   ]
  },
  {
   "cell_type": "code",
   "execution_count": 3,
   "metadata": {},
   "outputs": [
    {
     "data": {
      "text/plain": [
       "True"
      ]
     },
     "execution_count": 3,
     "metadata": {},
     "output_type": "execute_result"
    }
   ],
   "source": [
    "'''Q8. Read a gray scale image and negate the image.'''\n",
    "\n",
    "# Read the grayscale image\n",
    "img = cv2.imread('image1.png', cv2.IMREAD_GRAYSCALE)\n",
    "\n",
    "# Negating the image\n",
    "negated_img = 255 - img\n",
    "\n",
    "# Displaying the negated image\n",
    "cv2.imshow('Negated Image', negated_img)\n",
    "cv2.waitKey(0)\n",
    "cv2.destroyAllWindows()\n",
    "\n",
    "# Writing the negated image\n",
    "cv2.imwrite('./output images/negated.png', negated_img)\n"
   ]
  },
  {
   "cell_type": "code",
   "execution_count": null,
   "metadata": {},
   "outputs": [],
   "source": [
    "'''Q9. Read a RGB image. Extract its red, green, and blue components and display it individually.'''\n",
    "\n",
    "# Reading the RGB image\n",
    "img = cv2.imread('image1.png')\n",
    "\n",
    "# Extracting the red, green, and blue components\n",
    "bx, gx, rx = cv2.split(img)\n",
    "\n",
    "zeros = np.zeros(bx.shape, np.uint8)\n",
    "\n",
    "# Merging zeros to make BGR image\n",
    "b = cv2.merge([bx,zeros,zeros])\n",
    "g = cv2.merge([zeros,gx,zeros])\n",
    "r = cv2.merge([zeros,zeros,rx])\n",
    "\n",
    "# Displaying the red component\n",
    "cv2.imshow('Red Component', r)\n",
    "cv2.waitKey(0)\n",
    "cv2.destroyAllWindows()\n",
    "\n",
    "# Saving the red component as an image\n",
    "cv2.imwrite('./output images/red.png', r)\n",
    "\n",
    "# Displaying the green component\n",
    "cv2.imshow('Green Component', g)\n",
    "cv2.waitKey(0)\n",
    "cv2.destroyAllWindows()\n",
    "\n",
    "# Saving the green component as an image\n",
    "cv2.imwrite('./output images/green.png', g)\n",
    "\n",
    "# Displaying the blue component\n",
    "cv2.imshow('Blue Component', b)\n",
    "cv2.waitKey(0)\n",
    "cv2.destroyAllWindows()\n",
    "\n",
    "# Saving the blue component as an image\n",
    "cv2.imwrite('./output images/blue.png', b)\n"
   ]
  },
  {
   "cell_type": "code",
   "execution_count": null,
   "metadata": {},
   "outputs": [],
   "source": [
    "'''Q10. Read a RGB image and convert it to a YIQ model and reconvert it back to RGB.'''\n",
    "\n",
    "# Reading the RGB image\n",
    "img = cv2.imread('image1.png')\n",
    "\n",
    "# Converting the RGB image to YIQ\n",
    "img_yiq = cv2.cvtColor(img, cv2.COLOR_BGR2YCrCb)\n",
    "\n",
    "# Spliting the Y, I, and Q components\n",
    "y, i, q = cv2.split(img_yiq)\n",
    "\n",
    "# Converting the YIQ image back to RGB\n",
    "img_rgb = cv2.cvtColor(img_yiq, cv2.COLOR_YCrCb2BGR)\n",
    "\n",
    "# Displaying the original and converted RGB images\n",
    "cv2.imshow('Original Image', img)\n",
    "cv2.waitKey(0)\n",
    "cv2.destroyAllWindows()\n",
    "cv2.imshow('YIQ model', img_yiq)\n",
    "cv2.waitKey(0)\n",
    "cv2.destroyAllWindows()\n",
    "cv2.imshow('Converted Image', img_rgb)\n",
    "cv2.waitKey(0)\n",
    "cv2.destroyAllWindows()\n",
    "\n",
    "# Writing the YIQ image\n",
    "cv2.imwrite('./output images/YIQ model.png', img_yiq)\n",
    "\n",
    "# Writing the Converted image\n",
    "cv2.imwrite('./output images/RGB converted.png', img_rgb)"
   ]
  },
  {
   "cell_type": "code",
   "execution_count": 5,
   "metadata": {},
   "outputs": [
    {
     "data": {
      "text/plain": [
       "True"
      ]
     },
     "execution_count": 5,
     "metadata": {},
     "output_type": "execute_result"
    }
   ],
   "source": [
    "\n",
    "'''Q11. Convert an RGB image to indexed image and followed by RGB image.'''\n",
    "\n",
    "# Loading the RGB image\n",
    "rgb_image =cv2.imread('image1.png')\n",
    "\n",
    "# Converting the RGB image to an indexed image with a maximum of 256 colors\n",
    "indexed_image = cv2.cvtColor(rgb_image, cv2.COLOR_BGR2GRAY)\n",
    "indexed_image = cv2.applyColorMap(indexed_image, cv2.COLORMAP_JET)\n",
    "\n",
    "# Saving the indexed image\n",
    "cv2.imwrite(\"./output images/indexed_image.png\", indexed_image)\n",
    "\n",
    "# Converting the indexed image back to an RGB image\n",
    "rgb_image2 = cv2.cvtColor(indexed_image, cv2.COLOR_BGR2RGB)\n",
    "\n",
    "# Saving the RGB image\n",
    "cv2.imwrite(\"./output images/rgb_image2.png\", rgb_image2)\n"
   ]
  },
  {
   "cell_type": "code",
   "execution_count": 6,
   "metadata": {},
   "outputs": [
    {
     "data": {
      "text/plain": [
       "True"
      ]
     },
     "execution_count": 6,
     "metadata": {},
     "output_type": "execute_result"
    }
   ],
   "source": [
    "'''Q12. Convert the RGB image into CMY model and CMY model into RGB model.'''\n",
    "\n",
    "# Loading the RGB image\n",
    "rgb_image = cv2.imread('image1.png')\n",
    "\n",
    "# Converting the RGB image to CMY model\n",
    "cmy_image = 255 - rgb_image\n",
    "\n",
    "# Converting the CMY image to RGB model\n",
    "rgb_image2 = 255 - cmy_image\n",
    "\n",
    "# Saving the CMY image\n",
    "cv2.imwrite(\"./output images/cmy_image.png\", cmy_image)\n",
    "\n",
    "# Saving the RGB image\n",
    "cv2.imwrite(\"./output images/rgb_image3.png\", rgb_image2)\n"
   ]
  }
 ],
 "metadata": {
  "kernelspec": {
   "display_name": "Python 3",
   "language": "python",
   "name": "python3"
  },
  "language_info": {
   "codemirror_mode": {
    "name": "ipython",
    "version": 3
   },
   "file_extension": ".py",
   "mimetype": "text/x-python",
   "name": "python",
   "nbconvert_exporter": "python",
   "pygments_lexer": "ipython3",
   "version": "3.11.1"
  },
  "orig_nbformat": 4,
  "vscode": {
   "interpreter": {
    "hash": "3971dd98fba937236c54d48d5611fba4b9c0d08b0b579e3dfae41d5762619a1c"
   }
  }
 },
 "nbformat": 4,
 "nbformat_minor": 2
}
