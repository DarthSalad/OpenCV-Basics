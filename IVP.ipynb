{
 "cells": [
  {
   "cell_type": "code",
   "execution_count": 14,
   "metadata": {},
   "outputs": [],
   "source": [
    "# Importing necessary libraries\n",
    "import cv2\n",
    "import numpy as np"
   ]
  },
  {
   "cell_type": "code",
   "execution_count": 6,
   "metadata": {},
   "outputs": [
    {
     "data": {
      "text/plain": [
       "True"
      ]
     },
     "execution_count": 6,
     "metadata": {},
     "output_type": "execute_result"
    }
   ],
   "source": [
    "'''Q1. Read, write and display an Image.'''\n",
    "\n",
    "# Reading the image\n",
    "img = cv2.imread('image1.png')\n",
    "\n",
    "# Displaying the image\n",
    "cv2.imshow('Image', img)\n",
    "cv2.waitKey(0)\n",
    "cv2.destroyAllWindows()\n",
    "\n",
    "# Writing the image\n",
    "cv2.imwrite('output1.png', img)\n"
   ]
  },
  {
   "cell_type": "code",
   "execution_count": 10,
   "metadata": {},
   "outputs": [
    {
     "data": {
      "text/plain": [
       "True"
      ]
     },
     "execution_count": 10,
     "metadata": {},
     "output_type": "execute_result"
    }
   ],
   "source": [
    "'''Q2. Mirror and flip an Image.'''\n",
    "\n",
    "# Reading the image\n",
    "img = cv2.imread('image1.png')\n",
    "\n",
    "# Mirroring the image horizontally\n",
    "img_mirror = cv2.flip(img, 1)\n",
    "\n",
    "# Flipping the image vertically\n",
    "img_flip = cv2.flip(img, 0)\n",
    "\n",
    "# Displaying the mirrored image\n",
    "cv2.imshow('Mirrored Image', img_mirror)\n",
    "cv2.waitKey(0)\n",
    "cv2.destroyAllWindows()\n",
    "\n",
    "# Writing the mirrored image\n",
    "cv2.imwrite('mirrored.png', img_mirror)\n",
    "\n",
    "# Displaying the flipped image\n",
    "cv2.imshow('Flipped Image', img_flip)\n",
    "cv2.waitKey(0)\n",
    "cv2.destroyAllWindows()\n",
    "\n",
    "# Writing the flipped image\n",
    "cv2.imwrite('flipped.png', img_flip)\n"
   ]
  },
  {
   "cell_type": "code",
   "execution_count": 11,
   "metadata": {},
   "outputs": [
    {
     "data": {
      "text/plain": [
       "'Q3. Divide an Image into different parts.'"
      ]
     },
     "execution_count": 11,
     "metadata": {},
     "output_type": "execute_result"
    }
   ],
   "source": [
    "'''Q3. Divide an Image into different parts.'''\n",
    "#Will do later hehe"
   ]
  },
  {
   "cell_type": "code",
   "execution_count": 13,
   "metadata": {},
   "outputs": [
    {
     "data": {
      "text/plain": [
       "True"
      ]
     },
     "execution_count": 13,
     "metadata": {},
     "output_type": "execute_result"
    }
   ],
   "source": [
    "'''Q4. Read a gray-scale image, modify the pixel intensities which are greater than 120 as white, less than 50 as black and rest as unmodified.'''\n",
    "\n",
    "# Reading the grayscale image\n",
    "img = cv2.imread('image1.png', cv2.IMREAD_GRAYSCALE)\n",
    "\n",
    "# Modifying the pixel intensities\n",
    "img[img > 120] = 255\n",
    "img[img < 50] = 0\n",
    "\n",
    "# Displaying the modified image\n",
    "cv2.imshow('Modified Image', img)\n",
    "cv2.waitKey(0)\n",
    "cv2.destroyAllWindows()\n",
    "\n",
    "# Writing the modified image\n",
    "cv2.imwrite('output2.png', img)\n"
   ]
  },
  {
   "cell_type": "code",
   "execution_count": 15,
   "metadata": {},
   "outputs": [
    {
     "data": {
      "text/plain": [
       "True"
      ]
     },
     "execution_count": 15,
     "metadata": {},
     "output_type": "execute_result"
    }
   ],
   "source": [
    "'''Q5. Find the mean of a gray-scale image and set it as the threshold value. Using the threshold value convert the image into binary image and display it.'''\n",
    "\n",
    "# Reading the grayscale image\n",
    "img = cv2.imread('image1.png', cv2.IMREAD_GRAYSCALE)\n",
    "\n",
    "# Finding the mean of the image\n",
    "mean = np.mean(img)\n",
    "\n",
    "# Setting the threshold value\n",
    "threshold = mean\n",
    "\n",
    "# Converting the image into binary using the threshold value\n",
    "_, binary_img = cv2.threshold(img, threshold, 255, cv2.THRESH_BINARY)\n",
    "\n",
    "# Displaying the binary image\n",
    "cv2.imshow('Binary Image', binary_img)\n",
    "cv2.waitKey(0)\n",
    "cv2.destroyAllWindows()\n",
    "\n",
    "# Writing the binary image\n",
    "cv2.imwrite('output3.png', binary_img)\n",
    "\n"
   ]
  }
 ],
 "metadata": {
  "kernelspec": {
   "display_name": "Python 3",
   "language": "python",
   "name": "python3"
  },
  "language_info": {
   "codemirror_mode": {
    "name": "ipython",
    "version": 3
   },
   "file_extension": ".py",
   "mimetype": "text/x-python",
   "name": "python",
   "nbconvert_exporter": "python",
   "pygments_lexer": "ipython3",
   "version": "3.11.1"
  },
  "orig_nbformat": 4,
  "vscode": {
   "interpreter": {
    "hash": "3971dd98fba937236c54d48d5611fba4b9c0d08b0b579e3dfae41d5762619a1c"
   }
  }
 },
 "nbformat": 4,
 "nbformat_minor": 2
}
